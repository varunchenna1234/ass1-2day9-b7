{
  "nbformat": 4,
  "nbformat_minor": 0,
  "metadata": {
    "colab": {
      "name": "ass1,2day9b7.ipynb",
      "provenance": [],
      "authorship_tag": "ABX9TyMyMjKM1rQOmgONBnkSpUXj",
      "include_colab_link": true
    },
    "kernelspec": {
      "name": "python3",
      "display_name": "Python 3"
    }
  },
  "cells": [
    {
      "cell_type": "markdown",
      "metadata": {
        "id": "view-in-github",
        "colab_type": "text"
      },
      "source": [
        "<a href=\"https://colab.research.google.com/github/varunchenna1234/ass1-2day9-b7/blob/master/ass1%2C2day9b7.ipynb\" target=\"_parent\"><img src=\"https://colab.research.google.com/assets/colab-badge.svg\" alt=\"Open In Colab\"/></a>"
      ]
    },
    {
      "cell_type": "markdown",
      "metadata": {
        "id": "j9G7USzoNSXp",
        "colab_type": "text"
      },
      "source": [
        "Generator program----ass1day9-b7"
      ]
    },
    {
      "cell_type": "code",
      "metadata": {
        "id": "C_D4WjzgNgBB",
        "colab_type": "code",
        "colab": {
          "base_uri": "https://localhost:8080/",
          "height": 35
        },
        "outputId": "64b11ae6-04a4-40f9-d0aa-2d11f8ab0d44"
      },
      "source": [
        "def isgen():\n",
        "    for num in range(1,1000):\n",
        "\n",
        "      \n",
        "        order = len(str(num))\n",
        "        sum = 0\n",
        "        temp = num\n",
        "        while temp > 0:\n",
        "            digit = temp % 10\n",
        "            sum += digit ** order\n",
        "            temp //= 10\n",
        "        if num == sum:\n",
        "            yield num\n",
        "\n",
        "x=list(isgen())\n",
        "x"
      ],
      "execution_count": 123,
      "outputs": [
        {
          "output_type": "execute_result",
          "data": {
            "text/plain": [
              "[1, 2, 3, 4, 5, 6, 7, 8, 9, 153, 370, 371, 407]"
            ]
          },
          "metadata": {
            "tags": []
          },
          "execution_count": 123
        }
      ]
    },
    {
      "cell_type": "markdown",
      "metadata": {
        "id": "NlZp_kxR7iJc",
        "colab_type": "text"
      },
      "source": [
        "Assignmnet2 day9 batch 7-----pylint and unit Testing"
      ]
    },
    {
      "cell_type": "code",
      "metadata": {
        "id": "RxSLnfQN62s1",
        "colab_type": "code",
        "colab": {
          "base_uri": "https://localhost:8080/",
          "height": 35
        },
        "outputId": "dcc4516b-16c5-46c1-8a79-54a0bc004c79"
      },
      "source": [
        "\n",
        "\n",
        "%%writefile primeNo.py\n",
        "\n",
        "\n",
        "\n",
        "def isprime(num):\n",
        "\n",
        "    for i in range(2, num):\n",
        "        if num%i==0:\n",
        "            break\n",
        "    else:\n",
        "        print(\"given number is prime\")\n",
        "\n",
        "! pylint \"primeno.py\"\n",
        "\n"
      ],
      "execution_count": 87,
      "outputs": [
        {
          "output_type": "stream",
          "text": [
            "Overwriting primeNo.py\n"
          ],
          "name": "stdout"
        }
      ]
    },
    {
      "cell_type": "code",
      "metadata": {
        "id": "CnlkQFp-HNpl",
        "colab_type": "code",
        "colab": {
          "base_uri": "https://localhost:8080/",
          "height": 35
        },
        "outputId": "e2065b82-5d76-45d8-b1c9-0ddbf9d02c6a"
      },
      "source": [
        "%%writefile numisprime.py\n",
        "import unittest\n",
        "import primeNo\n",
        "\n",
        "class prime(unittest.Testcase)\n",
        "    def test(self)\n",
        "        r=primeNo.isprime(5)\n",
        "        self.assertEquals(r,'given number is prime')\n",
        "if __name__==\"__main__\":\n",
        "    i=unittest.main()"
      ],
      "execution_count": 84,
      "outputs": [
        {
          "output_type": "stream",
          "text": [
            "Writing numisprime.py\n"
          ],
          "name": "stdout"
        }
      ]
    }
  ]
}